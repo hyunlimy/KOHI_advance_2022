{
  "cells": [
    {
      "cell_type": "markdown",
      "metadata": {
        "id": "view-in-github",
        "colab_type": "text"
      },
      "source": [
        "<a href=\"https://colab.research.google.com/github/hyunlimy/KOHI_advance_2022/blob/main/%5Bopen%5D_02_lowbp_preprocessing.ipynb\" target=\"_parent\"><img src=\"https://colab.research.google.com/assets/colab-badge.svg\" alt=\"Open In Colab\"/></a>"
      ]
    },
    {
      "cell_type": "markdown",
      "metadata": {
        "tags": [],
        "id": "pufzvBE4j1Tj"
      },
      "source": [
        "# 의료인공지능 전문가 양성과정 2022\n",
        "## VitalDB Tutorial <br> Low blood pressure prediction using arterial wave - preprocessing\n",
        "- Date : Sep. 03, 2022\n",
        "- Author : **Hyun-Lim Yang, Ph.D.**<br>\n",
        "Research Assistant Professor @\n",
        "Seoul National University Hospital <br>\n",
        "Department of Anesthesiology and Pain Medicine\n",
        "- E-mail : hlyang{_at_}snu{_dot_}ac{_dot_}kr\n",
        "***"
      ]
    },
    {
      "cell_type": "code",
      "execution_count": null,
      "metadata": {
        "colab": {
          "base_uri": "https://localhost:8080/",
          "height": 17
        },
        "id": "jxT6T97BAb1G",
        "outputId": "2747c7d2-23ff-4c6b-b601-f145907a69f7"
      },
      "outputs": [
        {
          "data": {
            "text/html": [
              "<style>div.warn { background-color: #fcf2f2;border-color: #dFb5b4; border-left: 5px solid #dfb5b4; padding: 0.5em;}</style>"
            ],
            "text/plain": [
              "<IPython.core.display.HTML object>"
            ]
          },
          "execution_count": 1,
          "metadata": {},
          "output_type": "execute_result"
        }
      ],
      "source": [
        "from IPython.display import HTML\n",
        "style_warn = \"<style>div.warn { background-color: #fcf2f2;border-color: #dFb5b4; border-left: 5px solid #dfb5b4; padding: 0.5em;}</style>\"\n",
        "HTML(style_warn)"
      ]
    },
    {
      "cell_type": "markdown",
      "metadata": {
        "id": "dhpoIAxnAb1M"
      },
      "source": [
        "### Import packages"
      ]
    },
    {
      "cell_type": "markdown",
      "metadata": {
        "id": "p9PYd5m4Ab1O"
      },
      "source": [
        "<div class=\"warn\">**Warning!** : use your directory at `download_directory`</div>\n"
      ]
    },
    {
      "cell_type": "markdown",
      "metadata": {
        "id": "wq_pFlM6Ab1P"
      },
      "source": [
        "> **Wargning** <br>\n",
        "> colab 환경을 위한 google drive import 코드가 포함되어 있습니다. <br>\n",
        "> 로컬 환경에서 실행 시 colab을 위한 import function들을 comment out 한 뒤 실행하세요. "
      ]
    },
    {
      "cell_type": "code",
      "execution_count": null,
      "metadata": {
        "id": "MrflrBZ9j1Tp"
      },
      "outputs": [],
      "source": [
        "!pip install vitaldb"
      ]
    },
    {
      "cell_type": "code",
      "execution_count": null,
      "metadata": {
        "id": "Bg1kAzcjj1Tp"
      },
      "outputs": [],
      "source": [
        "from google.colab import drive  # for colab\n",
        "drive.mount('/content/gdrive/')  # for colab"
      ]
    },
    {
      "cell_type": "code",
      "execution_count": null,
      "metadata": {
        "id": "9rZgCdFyj1Tq"
      },
      "outputs": [],
      "source": [
        "import os\n",
        "cloud_directory = '/content/gdrive/My Drive/KOHI_2022_CNN_data_open/'\n",
        "os.listdir(cloud_directory) # for colab, check cloud directory mount"
      ]
    },
    {
      "cell_type": "code",
      "execution_count": null,
      "metadata": {
        "id": "fh-8gAgdj1Tr"
      },
      "outputs": [],
      "source": [
        "import sys\n",
        "#download_directory = os.getcwd() # for local environments\n",
        "#sys.path.append(download_directory) # for local environments\n",
        "sys.path.append(cloud_directory) # for colab"
      ]
    },
    {
      "cell_type": "code",
      "execution_count": null,
      "metadata": {
        "id": "RuNp5y2-Ab1X"
      },
      "outputs": [],
      "source": [
        "import os\n",
        "import sys\n",
        "# download_directory = os.getcwd() # for local environments\n",
        "# sys.path.append(download_directory) # for local environments"
      ]
    },
    {
      "cell_type": "code",
      "execution_count": null,
      "metadata": {
        "id": "TeCJ_u-ZAb1a"
      },
      "outputs": [],
      "source": [
        "import numpy as np\n",
        "import pandas as pd\n",
        "import glob\n",
        "import kohi_preprocessor as pre\n",
        "import vitaldb\n",
        "from tqdm import tqdm\n",
        "import warnings\n",
        "warnings.filterwarnings(action='ignore')\n",
        "\n",
        "download_directory = cloud_directory # for colab"
      ]
    },
    {
      "cell_type": "markdown",
      "metadata": {
        "id": "HVxAlNvkAb1h"
      },
      "source": [
        "### Data loading\n",
        "샘플 파일을 vitaldb 서버로 부터 직접 다운받아 로드"
      ]
    },
    {
      "cell_type": "markdown",
      "metadata": {
        "id": "UbGUZOqrAb1p"
      },
      "source": [
        "> **TODO:** `00010.vital`을 100hz로 변환하여 `chart_pd_01`에 DataFrame으로 저장하기"
      ]
    },
    {
      "cell_type": "code",
      "execution_count": null,
      "metadata": {
        "id": "8yiFyo7YAb1i"
      },
      "outputs": [],
      "source": [
        "track_names = [\"SNUADC/ART\", \"Solar8000/ART_MBP\"]\n",
        "### =========== Your code here ====================\n",
        "\n",
        "vitalfile = vitaldb.VitalFile(10, track_names=track_names)\n",
        "chart_pd_01 = vitalfile.to_pandas(track_names, interval=1/100)\n",
        "\n",
        "### ===============================================\n"
      ]
    },
    {
      "cell_type": "code",
      "execution_count": null,
      "metadata": {
        "id": "fxuqGZEIj1Tt",
        "outputId": "2115e36d-bdc5-48ca-f1ed-859369e7fd92"
      },
      "outputs": [
        {
          "data": {
            "text/html": [
              "<div>\n",
              "<style scoped>\n",
              "    .dataframe tbody tr th:only-of-type {\n",
              "        vertical-align: middle;\n",
              "    }\n",
              "\n",
              "    .dataframe tbody tr th {\n",
              "        vertical-align: top;\n",
              "    }\n",
              "\n",
              "    .dataframe thead th {\n",
              "        text-align: right;\n",
              "    }\n",
              "</style>\n",
              "<table border=\"1\" class=\"dataframe\">\n",
              "  <thead>\n",
              "    <tr style=\"text-align: right;\">\n",
              "      <th></th>\n",
              "      <th>SNUADC/ART</th>\n",
              "      <th>Solar8000/ART_MBP</th>\n",
              "    </tr>\n",
              "  </thead>\n",
              "  <tbody>\n",
              "    <tr>\n",
              "      <th>0</th>\n",
              "      <td>NaN</td>\n",
              "      <td>NaN</td>\n",
              "    </tr>\n",
              "    <tr>\n",
              "      <th>1</th>\n",
              "      <td>NaN</td>\n",
              "      <td>NaN</td>\n",
              "    </tr>\n",
              "    <tr>\n",
              "      <th>2</th>\n",
              "      <td>NaN</td>\n",
              "      <td>NaN</td>\n",
              "    </tr>\n",
              "    <tr>\n",
              "      <th>3</th>\n",
              "      <td>NaN</td>\n",
              "      <td>NaN</td>\n",
              "    </tr>\n",
              "    <tr>\n",
              "      <th>4</th>\n",
              "      <td>NaN</td>\n",
              "      <td>NaN</td>\n",
              "    </tr>\n",
              "    <tr>\n",
              "      <th>...</th>\n",
              "      <td>...</td>\n",
              "      <td>...</td>\n",
              "    </tr>\n",
              "    <tr>\n",
              "      <th>2099215</th>\n",
              "      <td>NaN</td>\n",
              "      <td>NaN</td>\n",
              "    </tr>\n",
              "    <tr>\n",
              "      <th>2099216</th>\n",
              "      <td>NaN</td>\n",
              "      <td>NaN</td>\n",
              "    </tr>\n",
              "    <tr>\n",
              "      <th>2099217</th>\n",
              "      <td>NaN</td>\n",
              "      <td>NaN</td>\n",
              "    </tr>\n",
              "    <tr>\n",
              "      <th>2099218</th>\n",
              "      <td>NaN</td>\n",
              "      <td>NaN</td>\n",
              "    </tr>\n",
              "    <tr>\n",
              "      <th>2099219</th>\n",
              "      <td>NaN</td>\n",
              "      <td>NaN</td>\n",
              "    </tr>\n",
              "  </tbody>\n",
              "</table>\n",
              "<p>2099220 rows × 2 columns</p>\n",
              "</div>"
            ],
            "text/plain": [
              "         SNUADC/ART  Solar8000/ART_MBP\n",
              "0               NaN                NaN\n",
              "1               NaN                NaN\n",
              "2               NaN                NaN\n",
              "3               NaN                NaN\n",
              "4               NaN                NaN\n",
              "...             ...                ...\n",
              "2099215         NaN                NaN\n",
              "2099216         NaN                NaN\n",
              "2099217         NaN                NaN\n",
              "2099218         NaN                NaN\n",
              "2099219         NaN                NaN\n",
              "\n",
              "[2099220 rows x 2 columns]"
            ]
          },
          "execution_count": 4,
          "metadata": {},
          "output_type": "execute_result"
        }
      ],
      "source": [
        "chart_pd_01"
      ]
    },
    {
      "cell_type": "code",
      "execution_count": null,
      "metadata": {
        "id": "yrQds6dKAb1s"
      },
      "outputs": [],
      "source": [
        "col_mbp = 'Solar8000/ART_MBP'\n",
        "col_art = 'SNUADC/ART'"
      ]
    },
    {
      "cell_type": "markdown",
      "metadata": {
        "id": "cBcUECUdAb1z"
      },
      "source": [
        "### mean blood pressure 데이터 추출\n",
        "> **TODO:** ART_MBP 변수들 중 값이 존재하는 것만 별도의 변수 `mbp_data_pd`에 저장"
      ]
    },
    {
      "cell_type": "code",
      "execution_count": null,
      "metadata": {
        "colab": {
          "base_uri": "https://localhost:8080/",
          "height": 119
        },
        "id": "LoYvclY8Ab10",
        "outputId": "0efbd37c-323e-4e53-c2fb-71e0634c43f4"
      },
      "outputs": [
        {
          "name": "stdout",
          "output_type": "stream",
          "text": [
            "708    -20.0\n",
            "899    -20.0\n",
            "1099   -20.0\n",
            "1299   -20.0\n",
            "1499   -20.0\n",
            "Name: Solar8000/ART_MBP, dtype: float32\n"
          ]
        }
      ],
      "source": [
        "# mbp 데이터 추출\n",
        "### =========== Your code here ====================\n",
        "\n",
        "mbp_data_pd = chart_pd_01[col_mbp][chart_pd_01[col_mbp].notnull()]\n",
        "\n",
        "### ===============================================\n",
        "\n",
        "mbp_index = mbp_data_pd.index.values\n",
        "print(mbp_data_pd.head())"
      ]
    },
    {
      "cell_type": "markdown",
      "metadata": {
        "id": "vSF_ry_wAb13"
      },
      "source": [
        "### arterial wave 데이터 추출 및 nan 지우기\n",
        "> **TODO:** ART 변수들 중 값이 존재하지 않는 모든 부분을 0으로 채운 뒤 `art_full_pd`에 저장"
      ]
    },
    {
      "cell_type": "code",
      "execution_count": null,
      "metadata": {
        "colab": {
          "base_uri": "https://localhost:8080/",
          "height": 119
        },
        "id": "zUnaZqqwAb13",
        "outputId": "4b334019-8841-4990-a75a-12a5df159350"
      },
      "outputs": [
        {
          "name": "stdout",
          "output_type": "stream",
          "text": [
            "0    0.0\n",
            "1    0.0\n",
            "2    0.0\n",
            "3    0.0\n",
            "4    0.0\n",
            "Name: SNUADC/ART, dtype: float32\n"
          ]
        }
      ],
      "source": [
        "# art 데이터 전체 추출 및 nan value 채우기\n",
        "art_full_pd = chart_pd_01[col_art]\n",
        "\n",
        "### =========== Your code here ====================\n",
        "\n",
        "art_full_pd = art_full_pd.fillna(0)\n",
        "\n",
        "### =========== Your code here ====================\n",
        "print(art_full_pd.head())"
      ]
    },
    {
      "cell_type": "markdown",
      "metadata": {
        "id": "1S0xwEUeAb16"
      },
      "source": [
        "### 데이터셋 만들기\n",
        "필요한 파라미터들 정의"
      ]
    },
    {
      "cell_type": "code",
      "execution_count": null,
      "metadata": {
        "id": "JVFKRPiqAb17"
      },
      "outputs": [],
      "source": [
        "# 필요한 파라미터들 정의\n",
        "mdelay = 1\n",
        "srate = 100\n",
        "length = 20\n",
        "max_limit_mbp = 250\n",
        "min_limit_mbp = 0"
      ]
    },
    {
      "cell_type": "markdown",
      "metadata": {
        "id": "ijmMSzZ9j1Tv"
      },
      "source": [
        "입력 데이터 길이가 20s이고 black out (여기서는 mdelay) 기간이 1분 이니, mbp가 1분 20초 이내에 등장하는 것은 무시함"
      ]
    },
    {
      "cell_type": "code",
      "execution_count": null,
      "metadata": {
        "colab": {
          "base_uri": "https://localhost:8080/",
          "height": 34
        },
        "id": "tRCLaPraAb1-",
        "outputId": "1795a3f7-cf6c-4798-fad4-246444d87c41"
      },
      "outputs": [
        {
          "name": "stdout",
          "output_type": "stream",
          "text": [
            "[   8100    8300    8500 ... 2092959 2093159 2093359]\n"
          ]
        }
      ],
      "source": [
        "# mbp index를 1분 20초 뒤로 미룸\n",
        "mbp_points = mbp_index[mbp_index > (mdelay*60*srate + length*srate)]\n",
        "print(mbp_points)"
      ]
    },
    {
      "cell_type": "markdown",
      "metadata": {
        "id": "UNTL3bHjAb2B"
      },
      "source": [
        "### Arterial wave segment 추출\n",
        "> **TODO:** 현재 mbp 값을 기준으로, 1분 20초 전 ~ 1분 전 데이터 (즉, 입력 데이터 20s)를 arterial wave segment로 추출하여 `art_seg_list`에 저장하기"
      ]
    },
    {
      "cell_type": "code",
      "execution_count": null,
      "metadata": {
        "id": "26VDlRR9Ab2B"
      },
      "outputs": [],
      "source": [
        "# 실습: arterial segment 추출하기\n",
        "mbp_values_list = [mbp_data_pd[idx] for idx in mbp_points]\n",
        "\n",
        "### =========== Your code here ====================\n",
        "\n",
        "art_seg_list = [art_full_pd[idx-(mdelay*60*srate) - (length*srate) : \n",
        "                            idx - (mdelay*60*srate)].values \n",
        "                for idx in mbp_points]\n",
        "### ==============================================="
      ]
    },
    {
      "cell_type": "code",
      "execution_count": null,
      "metadata": {
        "colab": {
          "base_uri": "https://localhost:8080/",
          "height": 51
        },
        "id": "8gkmPxdBAb2E",
        "outputId": "b2628344-f99e-4285-9eb9-524896b69c25"
      },
      "outputs": [
        {
          "name": "stdout",
          "output_type": "stream",
          "text": [
            "(10428,)\n",
            "(10428, 2000)\n"
          ]
        }
      ],
      "source": [
        "mbp_values_np = np.array(mbp_values_list)\n",
        "art_seg_np = np.array(art_seg_list)\n",
        "print(mbp_values_np.shape)\n",
        "print(art_seg_np.shape)"
      ]
    },
    {
      "cell_type": "markdown",
      "metadata": {
        "id": "lCiaLCYFAb2H"
      },
      "source": [
        "### 조건에 따라 filter들 정의"
      ]
    },
    {
      "cell_type": "code",
      "execution_count": null,
      "metadata": {
        "colab": {
          "base_uri": "https://localhost:8080/",
          "height": 34
        },
        "id": "x2ZVi6beAb2I",
        "outputId": "d46050f2-ddee-4de7-f8e7-4c300109fb24"
      },
      "outputs": [
        {
          "name": "stderr",
          "output_type": "stream",
          "text": [
            "100%|██████████| 10428/10428 [02:05<00:00, 83.26it/s] \n"
          ]
        }
      ],
      "source": [
        "# 필터들 선언\n",
        "# mbp min-max filter\n",
        "mbp_max_filter = mbp_values_np < max_limit_mbp\n",
        "mbp_min_filter = mbp_values_np > min_limit_mbp\n",
        "mbp_filter = mbp_max_filter & mbp_min_filter\n",
        "\n",
        "# abp range filter\n",
        "art_filter_list = []\n",
        "for seg in art_seg_np:\n",
        "    filter_value = (np.array(seg) > 25.0).all() and (np.array(seg) < 250.0).all()\n",
        "    art_filter_list.append(filter_value)\n",
        "art_filter = np.array(art_filter_list)\n",
        "\n",
        "# mstds 필터\n",
        "mstds_values_list = []\n",
        "for seg in tqdm(art_seg_np):\n",
        "    if (np.array(seg) < 0.).any():\n",
        "        mstds_values_list.append(float(0.))\n",
        "    else:\n",
        "        mstd_val, _ = pre.process_beat(seg)\n",
        "        mstds_values_list.append(mstd_val)\n",
        "mstds_filter = np.array(mstds_values_list) > 0."
      ]
    },
    {
      "cell_type": "markdown",
      "metadata": {
        "id": "E9KPPXroAb2K"
      },
      "source": [
        "전체 필터 하나로 만들기"
      ]
    },
    {
      "cell_type": "code",
      "execution_count": null,
      "metadata": {
        "id": "FE1RNFpOAb2K"
      },
      "outputs": [],
      "source": [
        "all_filters = mbp_filter & art_filter & mstds_filter"
      ]
    },
    {
      "cell_type": "markdown",
      "metadata": {
        "id": "sBSViHTgAb2N"
      },
      "source": [
        "### 필터 적용하여 데이터 추출\n",
        "> **TODO:** `all_filters`를 이용하여 필터 통과한 데이터들만 추출해 `mbp_filtered`와 `art_filtered`에 저장"
      ]
    },
    {
      "cell_type": "code",
      "execution_count": null,
      "metadata": {
        "colab": {
          "base_uri": "https://localhost:8080/",
          "height": 51
        },
        "id": "iA4ZCAxEAb2N",
        "outputId": "50abdae1-4fb8-4bc6-c16f-7caaf1d71794"
      },
      "outputs": [
        {
          "name": "stdout",
          "output_type": "stream",
          "text": [
            "(8110,)\n",
            "(8110, 2000)\n"
          ]
        }
      ],
      "source": [
        "### =========== Your code here ====================\n",
        "\n",
        "mbp_filtered = mbp_values_np[all_filters]\n",
        "art_filtered = art_seg_np[all_filters]\n",
        "\n",
        "### ===============================================\n",
        "\n",
        "print(mbp_filtered.shape)\n",
        "print(art_filtered.shape)"
      ]
    },
    {
      "cell_type": "markdown",
      "metadata": {
        "id": "j654gCFuAb2Q"
      },
      "source": [
        "데이터셋 정의"
      ]
    },
    {
      "cell_type": "code",
      "execution_count": null,
      "metadata": {
        "id": "k46YjDAZAb2R",
        "outputId": "9ed11df5-045c-441f-8b6b-dfbb3ce61da9"
      },
      "outputs": [
        {
          "data": {
            "text/plain": [
              "(640,)"
            ]
          },
          "execution_count": 15,
          "metadata": {},
          "output_type": "execute_result"
        }
      ],
      "source": [
        "mbp_filtered[mbp_filtered < 60].shape"
      ]
    },
    {
      "cell_type": "markdown",
      "metadata": {
        "id": "VuZYI74mAb2c"
      },
      "source": [
        "### Binary label 정의\n",
        "mbp가 61 미만인 데이터들의 label을 1로 지정하여 학습을 위한 y_label 생성"
      ]
    },
    {
      "cell_type": "code",
      "execution_count": null,
      "metadata": {
        "id": "yo4MdQBFAb2c"
      },
      "outputs": [],
      "source": [
        "label_tmp = np.zeros(len(mbp_filtered))\n",
        "label_tmp[mbp_filtered<61] = 1."
      ]
    },
    {
      "cell_type": "code",
      "execution_count": null,
      "metadata": {
        "id": "raDrxUcdAb2f"
      },
      "outputs": [],
      "source": [
        "x_data = art_filtered\n",
        "y_label = label_tmp"
      ]
    },
    {
      "cell_type": "code",
      "execution_count": null,
      "metadata": {
        "id": "KjjtcQifAb2j",
        "outputId": "dbcafb09-d041-4741-fe3d-0f86bb73b04e"
      },
      "outputs": [
        {
          "data": {
            "text/plain": [
              "(8110, 2000)"
            ]
          },
          "execution_count": 18,
          "metadata": {},
          "output_type": "execute_result"
        }
      ],
      "source": [
        "x_data.shape"
      ]
    },
    {
      "cell_type": "code",
      "execution_count": null,
      "metadata": {
        "id": "WGO6dqX1Ab2m",
        "outputId": "0cbd5d4b-b877-487d-8ed7-5e45d39404dc"
      },
      "outputs": [
        {
          "data": {
            "text/plain": [
              "(8110,)"
            ]
          },
          "execution_count": 19,
          "metadata": {},
          "output_type": "execute_result"
        }
      ],
      "source": [
        "y_label.shape"
      ]
    },
    {
      "cell_type": "code",
      "execution_count": null,
      "metadata": {
        "id": "aUsVhpD9Ab2o"
      },
      "outputs": [],
      "source": []
    },
    {
      "cell_type": "code",
      "execution_count": null,
      "metadata": {
        "id": "oXWfOAeGAb2r"
      },
      "outputs": [],
      "source": []
    }
  ],
  "metadata": {
    "colab": {
      "provenance": [],
      "include_colab_link": true
    },
    "kernelspec": {
      "display_name": "keras",
      "language": "python",
      "name": "lims1_keras"
    },
    "language_info": {
      "codemirror_mode": {
        "name": "ipython",
        "version": 3
      },
      "file_extension": ".py",
      "mimetype": "text/x-python",
      "name": "python",
      "nbconvert_exporter": "python",
      "pygments_lexer": "ipython3",
      "version": "3.8.12"
    }
  },
  "nbformat": 4,
  "nbformat_minor": 0
}