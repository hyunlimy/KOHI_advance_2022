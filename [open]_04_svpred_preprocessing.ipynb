{
  "cells": [
    {
      "cell_type": "markdown",
      "metadata": {
        "id": "view-in-github",
        "colab_type": "text"
      },
      "source": [
        "<a href=\"https://colab.research.google.com/github/hyunlimy/KOHI_advance_2022/blob/main/%5Bopen%5D_04_svpred_preprocessing.ipynb\" target=\"_parent\"><img src=\"https://colab.research.google.com/assets/colab-badge.svg\" alt=\"Open In Colab\"/></a>"
      ]
    },
    {
      "cell_type": "markdown",
      "metadata": {
        "id": "zKVQCS9VkIvp"
      },
      "source": [
        "# 의료인공지능 전문가 양성과정 2022\n",
        "## VitalDB Tutorial <br> Stroke volume prediction using arterial wave - preprocessing\n",
        "- Date : Sep. 03, 2022\n",
        "- Author : **Hyun-Lim Yang, Ph.D.**<br>\n",
        "Research Assistant Professor @\n",
        "Seoul National University Hospital <br>\n",
        "Department of Anesthesiology and Pain Medicine\n",
        "- E-mail : hlyang{_at_}snu{_dot_}ac{_dot_}kr\n",
        "***"
      ]
    },
    {
      "cell_type": "code",
      "execution_count": null,
      "metadata": {
        "id": "GFCL8aqnkIvt",
        "outputId": "b857e420-1cde-4a63-ddca-198f3fbaed70"
      },
      "outputs": [
        {
          "data": {
            "text/html": [
              "<style>div.warn { background-color: #fcf2f2;border-color: #dFb5b4; border-left: 5px solid #dfb5b4; padding: 0.5em;}</style>"
            ],
            "text/plain": [
              "<IPython.core.display.HTML object>"
            ]
          },
          "execution_count": 1,
          "metadata": {},
          "output_type": "execute_result"
        }
      ],
      "source": [
        "from IPython.display import HTML\n",
        "style_warn = \"<style>div.warn { background-color: #fcf2f2;border-color: #dFb5b4; border-left: 5px solid #dfb5b4; padding: 0.5em;}</style>\"\n",
        "HTML(style_warn)"
      ]
    },
    {
      "cell_type": "markdown",
      "metadata": {
        "id": "iz6QEGwSkIvv"
      },
      "source": [
        "### Import packages"
      ]
    },
    {
      "cell_type": "markdown",
      "metadata": {
        "id": "b2RX3xVjkIvv"
      },
      "source": [
        "<div class=\"warn\">**Warning!** : use your directory at `download_directory`</div>\n"
      ]
    },
    {
      "cell_type": "markdown",
      "metadata": {
        "id": "YF9zAjwjkIvw"
      },
      "source": [
        "> **Wargning** <br>\n",
        "> colab 환경을 위한 google drive import 코드가 포함되어 있습니다. <br>\n",
        "> 로컬 환경에서 실행 시 colab을 위한 import function들을 comment out 한 뒤 실행하세요. "
      ]
    },
    {
      "cell_type": "code",
      "execution_count": null,
      "metadata": {
        "id": "I8RsPpyhkIvw"
      },
      "outputs": [],
      "source": [
        "!pip install vitaldb"
      ]
    },
    {
      "cell_type": "code",
      "execution_count": null,
      "metadata": {
        "id": "LHrsxn8zkIvx"
      },
      "outputs": [],
      "source": [
        "from google.colab import drive  # for colab\n",
        "drive.mount('/content/gdrive/')  # for colab"
      ]
    },
    {
      "cell_type": "code",
      "execution_count": null,
      "metadata": {
        "id": "_QEow_CVkIvx"
      },
      "outputs": [],
      "source": [
        "import os\n",
        "cloud_directory = '/content/gdrive/My Drive/KOHI_2022_CNN_data_open/'\n",
        "os.listdir(cloud_directory) # for colab, check cloud directory mount"
      ]
    },
    {
      "cell_type": "code",
      "execution_count": null,
      "metadata": {
        "id": "oqT-iN4ikIvy"
      },
      "outputs": [],
      "source": [
        "import sys\n",
        "#download_directory = os.getcwd() # for local environments\n",
        "#sys.path.append(download_directory) # for local environments\n",
        "sys.path.append(cloud_directory) # for colab"
      ]
    },
    {
      "cell_type": "code",
      "execution_count": null,
      "metadata": {
        "id": "yKlUL1zwkIvz"
      },
      "outputs": [],
      "source": [
        "import os\n",
        "import sys\n",
        "# download_directory = os.getcwd() # for local environments\n",
        "# sys.path.append(download_directory) # for local environments"
      ]
    },
    {
      "cell_type": "code",
      "execution_count": null,
      "metadata": {
        "id": "3q7we5xCkIvz"
      },
      "outputs": [],
      "source": [
        "import numpy as np\n",
        "import pandas as pd\n",
        "import glob\n",
        "import kohi_preprocessor as pre\n",
        "import vitaldb\n",
        "from tqdm import tqdm\n",
        "import warnings\n",
        "warnings.filterwarnings(action='ignore')\n",
        "\n",
        "download_directory = cloud_directory # for colab"
      ]
    },
    {
      "cell_type": "markdown",
      "metadata": {
        "id": "elh_S_NKkIvz"
      },
      "source": [
        "### Data loading\n",
        "샘플 파일을 vitaldb 서버로 부터 직접 다운받아 로드"
      ]
    },
    {
      "cell_type": "markdown",
      "metadata": {
        "id": "tdsZBbQAkIv0"
      },
      "source": [
        "> **TODO:** `00019.vital`을 100hz로 변환하여 `chart_pd_01`에 DataFrame으로 저장하기"
      ]
    },
    {
      "cell_type": "code",
      "execution_count": null,
      "metadata": {
        "id": "o5V61dVmkIv0",
        "outputId": "270a676c-758f-4a19-8683-fba969f843c9"
      },
      "outputs": [
        {
          "name": "stdout",
          "output_type": "stream",
          "text": [
            "Index(['EV1000/SV', 'SNUADC/ART'], dtype='object')\n"
          ]
        }
      ],
      "source": [
        "track_names = [\"EV1000/SV\", \"SNUADC/ART\"]\n",
        "### =========== Your code here ====================\n",
        "\n",
        "vitalfile = \n",
        "chart_pd_01 = \n",
        "\n",
        "### ===============================================\n",
        "\n",
        "print(chart_pd_01.columns)"
      ]
    },
    {
      "cell_type": "code",
      "execution_count": null,
      "metadata": {
        "id": "I06PgDQrkIv0"
      },
      "outputs": [],
      "source": [
        "col_svs = 'EV1000/SV'\n",
        "col_art = 'SNUADC/ART'"
      ]
    },
    {
      "cell_type": "markdown",
      "metadata": {
        "id": "vdYa-d7NkIv1"
      },
      "source": [
        "### Stroke volume 데이터 추출"
      ]
    },
    {
      "cell_type": "code",
      "execution_count": null,
      "metadata": {
        "id": "qPz1UHT8kIv1",
        "outputId": "ff6849ae-12b5-4d62-f47c-2a8f83db7e5d"
      },
      "outputs": [
        {
          "name": "stdout",
          "output_type": "stream",
          "text": [
            "53845    61.0\n",
            "54008    61.0\n",
            "54208    61.0\n",
            "54408    61.0\n",
            "54607    61.0\n",
            "Name: EV1000/SV, dtype: float32\n"
          ]
        }
      ],
      "source": [
        "# stroke volume 데이터 추출\n",
        "### =========== Your code here ====================\n",
        "\n",
        "svs_data_pd = \n",
        "svs_index = \n",
        "\n",
        "### ===============================================\n",
        "print(svs_data_pd.head())"
      ]
    },
    {
      "cell_type": "markdown",
      "metadata": {
        "id": "oOabwWIUkIv1"
      },
      "source": [
        "### arterial wave 데이터 추출 및 nan 지우기"
      ]
    },
    {
      "cell_type": "code",
      "execution_count": null,
      "metadata": {
        "id": "HZptfF7rkIv1",
        "outputId": "8c8fb011-b47f-40ef-a7d4-787042ec8ead"
      },
      "outputs": [
        {
          "name": "stdout",
          "output_type": "stream",
          "text": [
            "0    0.0\n",
            "1    0.0\n",
            "2    0.0\n",
            "3    0.0\n",
            "4    0.0\n",
            "Name: SNUADC/ART, dtype: float32\n"
          ]
        }
      ],
      "source": [
        "# art 데이터 전체 추출 및 nan value 채우기\n",
        "### =========== Your code here ====================\n",
        "\n",
        "art_full_pd = \n",
        "art_full_pd = \n",
        "\n",
        "### ===============================================\n",
        "\n",
        "print(art_full_pd.head())"
      ]
    },
    {
      "cell_type": "markdown",
      "metadata": {
        "id": "MPvPm70hkIv2"
      },
      "source": [
        "### 데이터셋 만들기\n",
        "필요한 파라미터들 정의"
      ]
    },
    {
      "cell_type": "code",
      "execution_count": null,
      "metadata": {
        "id": "lbEzOAaDkIv2"
      },
      "outputs": [],
      "source": [
        "# 필요한 파라미터들 정의\n",
        "srate = 100\n",
        "length = 20\n",
        "max_limit_svs = 200 # svs max : 200\n",
        "min_limit_svs = 20  # svs min : 20"
      ]
    },
    {
      "cell_type": "markdown",
      "metadata": {
        "id": "YxUzYSG7kIv2"
      },
      "source": [
        "입력 데이터 길이가 20s이니, svs가 20s 이내에 등장하는 것은 무시함"
      ]
    },
    {
      "cell_type": "code",
      "execution_count": null,
      "metadata": {
        "id": "n-M-2ju5kIv2",
        "outputId": "6f660755-c094-4e00-dcf7-e2a210b637a8"
      },
      "outputs": [
        {
          "name": "stdout",
          "output_type": "stream",
          "text": [
            "[  53845   54008   54208 ... 2700200 2700400 2700600]\n"
          ]
        }
      ],
      "source": [
        "# svs index를 20초 뒤로 미룸\n",
        "### =========== Your code here ====================\n",
        "\n",
        "svs_points = \n",
        "\n",
        "### ===============================================\n",
        "\n",
        "print(svs_points)"
      ]
    },
    {
      "cell_type": "markdown",
      "metadata": {
        "id": "ijimyJAqkIv2"
      },
      "source": [
        "### Arterial wave segment 추출"
      ]
    },
    {
      "cell_type": "code",
      "execution_count": null,
      "metadata": {
        "id": "NOuOdEGIkIv2",
        "outputId": "431585b7-1456-42ec-95c7-d7ffbf93a99e"
      },
      "outputs": [
        {
          "name": "stdout",
          "output_type": "stream",
          "text": [
            "[61. 61. 61. ... 63. 63. 63.]\n",
            "[[ 62.2872   62.2872   58.3374  ...  62.2872   65.2496   66.2371 ]\n",
            " [ 54.3876   56.3625   62.2872  ...  53.4001   51.4252   50.4377 ]\n",
            " [ 65.2496   64.2621   63.2747  ...  75.1242   70.1869   67.2245 ]\n",
            " ...\n",
            " [  6.00217 -13.747    30.6886  ...  -9.79714  -5.84731  19.8266 ]\n",
            " [-26.5839   23.7764   10.9395  ...   2.05234 -16.7093   28.7137 ]\n",
            " [-24.609    21.8015    4.02726 ...  -3.8724  -10.7846   20.814  ]]\n"
          ]
        }
      ],
      "source": [
        "# arterial segment 추출하기\n",
        "### =========== Your code here ====================\n",
        "svs_values_list = \n",
        "art_seg_list = \n",
        "\n",
        "### ===============================================\n",
        "\n",
        "svs_values_np = np.array(svs_values_list)\n",
        "art_seg_np = np.array(art_seg_list)\n",
        "\n",
        "print(svs_values_np)\n",
        "print(art_seg_np)"
      ]
    },
    {
      "cell_type": "markdown",
      "metadata": {
        "id": "M-df0IzFkIv3"
      },
      "source": [
        "### 조건에 따라 filter들 정의"
      ]
    },
    {
      "cell_type": "code",
      "execution_count": null,
      "metadata": {
        "id": "bllmIuPzkIv3",
        "outputId": "35a68c8c-4ffa-476d-e4cd-cccc745943b4"
      },
      "outputs": [
        {
          "name": "stderr",
          "output_type": "stream",
          "text": [
            "100%|██████████| 13217/13217 [02:46<00:00, 79.35it/s] \n"
          ]
        }
      ],
      "source": [
        "# 필터들 선언\n",
        "# svs min-max filter\n",
        "\n",
        "### =========== Your code here ====================\n",
        "\n",
        "svs_max_filter = \n",
        "svs_min_filter = \n",
        "svs_filter = \n",
        "\n",
        "### ===============================================\n",
        "\n",
        "\n",
        "# abp range filter\n",
        "\n",
        "### =========== Your code here ====================\n",
        "\n",
        "art_filter_list = []\n",
        "for seg in art_seg_np:\n",
        "    filter_value = \n",
        "    art_filter_list.append(filter_value)\n",
        "art_filter = np.array(art_filter_list)\n",
        "\n",
        "### ===============================================\n",
        "\n",
        "\n",
        "# mstds 필터\n",
        "\n",
        "### =========== Your code here ====================\n",
        "\n",
        "mstds_values_list = []\n",
        "for seg in tqdm(art_seg_np):\n",
        "    if         :\n",
        "        mstds_values_list.append(float(0.))\n",
        "    else:\n",
        "        mstd_val, _ = \n",
        "        mstds_values_list.append(mstd_val)\n",
        "mstds_filter = \n",
        "\n",
        "### ===============================================\n"
      ]
    },
    {
      "cell_type": "markdown",
      "metadata": {
        "id": "6bJB125zkIv3"
      },
      "source": [
        "전체 필터 하나로 만들기"
      ]
    },
    {
      "cell_type": "code",
      "execution_count": null,
      "metadata": {
        "id": "ydDWCVxmkIv3"
      },
      "outputs": [],
      "source": [
        "### =========== Your code here ====================\n",
        "\n",
        "all_filters = \n",
        "\n",
        "### ===============================================\n"
      ]
    },
    {
      "cell_type": "markdown",
      "metadata": {
        "id": "RtsSSBCEkIv3"
      },
      "source": [
        "### 필터 적용하여 데이터 추출"
      ]
    },
    {
      "cell_type": "code",
      "execution_count": null,
      "metadata": {
        "id": "sDoX3Bs5kIv3",
        "outputId": "fd62e9a3-c920-4962-af17-4b53f7802b83"
      },
      "outputs": [
        {
          "name": "stdout",
          "output_type": "stream",
          "text": [
            "(12363,)\n",
            "(12363, 2000)\n"
          ]
        }
      ],
      "source": [
        "# 필터 적용해서 추출\n",
        "\n",
        "### =========== Your code here ====================\n",
        "\n",
        "svs_filtered = \n",
        "art_filtered = \n",
        "\n",
        "### ===============================================\n",
        "\n",
        "print(svs_filtered.shape)\n",
        "print(art_filtered.shape)"
      ]
    },
    {
      "cell_type": "markdown",
      "metadata": {
        "id": "CuJ41US7kIv3"
      },
      "source": [
        "데이터셋 정의"
      ]
    },
    {
      "cell_type": "code",
      "execution_count": null,
      "metadata": {
        "id": "k_vmkBeBkIv4"
      },
      "outputs": [],
      "source": [
        "x_data = art_filtered\n",
        "y_label = svs_filtered"
      ]
    },
    {
      "cell_type": "code",
      "execution_count": null,
      "metadata": {
        "id": "zp_Xx0WrkIv4",
        "outputId": "df2efa82-6c39-4a2b-ab5b-e38ebb13a00b"
      },
      "outputs": [
        {
          "name": "stdout",
          "output_type": "stream",
          "text": [
            "(12363, 2000)\n",
            "(12363,)\n"
          ]
        }
      ],
      "source": [
        "print(x_data.shape)\n",
        "print(y_label.shape)"
      ]
    },
    {
      "cell_type": "code",
      "execution_count": null,
      "metadata": {
        "id": "bC96xuKtkIv4"
      },
      "outputs": [],
      "source": []
    },
    {
      "cell_type": "code",
      "execution_count": null,
      "metadata": {
        "id": "8bWs4XiEkIv4"
      },
      "outputs": [],
      "source": []
    },
    {
      "cell_type": "code",
      "execution_count": null,
      "metadata": {
        "id": "z7c9pod2kIv4"
      },
      "outputs": [],
      "source": []
    }
  ],
  "metadata": {
    "kernelspec": {
      "display_name": "keras",
      "language": "python",
      "name": "lims1_keras"
    },
    "language_info": {
      "codemirror_mode": {
        "name": "ipython",
        "version": 3
      },
      "file_extension": ".py",
      "mimetype": "text/x-python",
      "name": "python",
      "nbconvert_exporter": "python",
      "pygments_lexer": "ipython3",
      "version": "3.8.12"
    },
    "colab": {
      "provenance": [],
      "include_colab_link": true
    }
  },
  "nbformat": 4,
  "nbformat_minor": 0
}